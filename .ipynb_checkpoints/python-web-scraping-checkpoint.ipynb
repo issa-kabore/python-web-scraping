{
 "cells": [
  {
   "cell_type": "markdown",
   "id": "015e0d7a-5733-4081-8eb6-cb08ffb5f703",
   "metadata": {
    "tags": []
   },
   "source": [
    "# Web Scraping"
   ]
  },
  {
   "cell_type": "markdown",
   "id": "a4dff279-91ba-4535-b9c6-a93ac21a035b",
   "metadata": {},
   "source": [
    "**Info/Comments**   \n",
    "- Principe: \n",
    "    - Web scraping is the recovery of data from web pages, in an automatic way. \n",
    "    - It is a technique, based on a simple principle. It is used in many applications: search engines, price comparison, monitoring tools etc.\n",
    "- 2 steps: \n",
    "    - downloading the HTML code of the page to be scraped, \n",
    "    - and parsing it."
   ]
  },
  {
   "cell_type": "markdown",
   "id": "46eb441f-37ba-41ed-9d86-15d33661873c",
   "metadata": {},
   "source": [
    "Page to test web scraping: https://codedamn-classrooms.github.io/webscraper-python-codedamn-classroom-website/"
   ]
  },
  {
   "cell_type": "markdown",
   "id": "76b17bde-fb79-45a4-9cfd-f7b6927837a9",
   "metadata": {
    "tags": []
   },
   "source": [
    "## Table of Contents \n",
    "\n",
    "* [1. Importing the required packages into our python environment. ](#part1)\n",
    "* [2. Download html code ](#part2)\n",
    "* [3. Extracting features](#part3)\n",
    "* [4. Application](#part4)\n",
    "\n"
   ]
  },
  {
   "cell_type": "code",
   "execution_count": null,
   "id": "b4118cff-ad16-4224-ac2c-9c8aa9c76bf2",
   "metadata": {},
   "outputs": [],
   "source": []
  },
  {
   "cell_type": "markdown",
   "id": "cdf1cd98-8aa0-4081-9a37-ba38e1d32967",
   "metadata": {},
   "source": [
    "## 1. IMPORTING PACKAGES <a class=\"anchor\" id=\"part1\"></a>"
   ]
  },
  {
   "cell_type": "code",
   "execution_count": 1,
   "id": "6b9a7a55-b93f-4dc4-a9ff-48de85bed0ff",
   "metadata": {},
   "outputs": [],
   "source": [
    "# !pip install requests\n",
    "# !pip install beautifulsoup4\n",
    "import requests\n",
    "from bs4 import BeautifulSoup\n",
    "import pandas as pd"
   ]
  },
  {
   "cell_type": "code",
   "execution_count": null,
   "id": "c60d803e-32d0-47c4-a185-902415f5d20a",
   "metadata": {},
   "outputs": [],
   "source": []
  },
  {
   "cell_type": "markdown",
   "id": "c58faca5-d167-4e3d-980e-c0df1abcf7a8",
   "metadata": {},
   "source": [
    "## 2. Download html code <a class=\"anchor\" id=\"part2\"></a>"
   ]
  },
  {
   "cell_type": "markdown",
   "id": "3f244e79-6c41-4c2a-8a55-d1690328371d",
   "metadata": {},
   "source": [
    "- To get the content of the web page (download) you just have to make a **HTTP request** and wait for the answer.\n",
    "- The `requests` module allows you to send HTTP requests using **Python**.\n",
    "- The HTTP request returns a Response Object with all the response data (content, encoding, status, and so on)."
   ]
  },
  {
   "cell_type": "markdown",
   "id": "fd73854d-5f22-4fa8-839f-f52f3f836f15",
   "metadata": {},
   "source": [
    "Status code information:\n",
    "- Informational responses (100 – 199)\n",
    "- Successful responses (200 – 299)\n",
    "- Redirection messages (300 – 399)\n",
    "- Client error responses (400 – 499)\n",
    "- Server error responses (500 – 599)   \n",
    "   \n",
    "For more information see: https://developer.mozilla.org/en-US/docs/web/http/status"
   ]
  },
  {
   "cell_type": "code",
   "execution_count": 2,
   "id": "1b6bf768-091b-40da-bfa8-3a1842a9f1b5",
   "metadata": {},
   "outputs": [],
   "source": [
    "# Make a request to a web page, and return the status code:\n",
    "url = \"https://codedamn-classrooms.github.io/webscraper-python-codedamn-classroom-website/\"\n",
    "\n",
    "\n",
    "reponse = requests.get(url)\n"
   ]
  },
  {
   "cell_type": "markdown",
   "id": "d7b5e7e6-0f5e-4823-98be-92b662ddc074",
   "metadata": {},
   "source": [
    "Store the status code in a variable called `status`"
   ]
  },
  {
   "cell_type": "code",
   "execution_count": 3,
   "id": "f9766e56-d97e-45e0-80ec-ffd3fcb6482b",
   "metadata": {},
   "outputs": [
    {
     "name": "stdout",
     "output_type": "stream",
     "text": [
      "Status: 200\n"
     ]
    }
   ],
   "source": [
    "status = reponse.status_code\n",
    "print(f\"Status: {status}\")"
   ]
  },
  {
   "cell_type": "markdown",
   "id": "5c58b068-3e1e-4d11-ab2f-3b01bda90aca",
   "metadata": {
    "tags": []
   },
   "source": [
    "Store the text response in a variable called `content`"
   ]
  },
  {
   "cell_type": "code",
   "execution_count": 4,
   "id": "784b0986-29e2-4e20-bdcc-563a43bc44c2",
   "metadata": {},
   "outputs": [
    {
     "name": "stdout",
     "output_type": "stream",
     "text": [
      "<!DOCTYPE html>\n",
      "<html lang=\"en\">\n",
      "\t<head>\n",
      "\t\t<!-- Anti-flicker snippet (recommended)  -->\n",
      "\t\t<style>\n",
      "\t\t\n"
     ]
    }
   ],
   "source": [
    "content = reponse.text\n",
    "# Overview of the data\n",
    "print(content[:100])"
   ]
  },
  {
   "cell_type": "code",
   "execution_count": null,
   "id": "20fcf09b-bab6-49dc-b1f3-99192605a8d8",
   "metadata": {},
   "outputs": [],
   "source": []
  },
  {
   "cell_type": "markdown",
   "id": "4756d69e-2fdc-41f3-839b-4ca4fee72d04",
   "metadata": {
    "tags": []
   },
   "source": [
    "## 3. Extract with BeautifulSoup <a class=\"anchor\" id=\"part3\"></a>"
   ]
  },
  {
   "cell_type": "markdown",
   "id": "653bcb50-46e7-451d-a946-4f58a8c3698e",
   "metadata": {},
   "source": [
    "URL → requête HTTP → HTML → BeautifulSoup"
   ]
  },
  {
   "cell_type": "markdown",
   "id": "0b5f352b-08c9-45f7-96bb-bfd0c1390215",
   "metadata": {},
   "source": [
    "- We will be using a library called `BeautifulSoup` in Python to do web scraping.\n",
    "- Beautiful Soup is on top of popular Python parsers like `lxml` and `html5lib`, allowing you to try out different parsing strategies.\n",
    "- It can parse anything on the web."
   ]
  },
  {
   "cell_type": "code",
   "execution_count": 5,
   "id": "6fc18ed3-9e1f-40e2-a85e-06b8c2eb7341",
   "metadata": {},
   "outputs": [
    {
     "name": "stdout",
     "output_type": "stream",
     "text": [
      "Page title with no.text: '<title>codedamn Web Scraper demo</title>'\n",
      "Page title: 'codedamn Web Scraper demo'\n"
     ]
    }
   ],
   "source": [
    "soup = BeautifulSoup(content, 'html.parser')\n",
    "\n",
    "# Extracting title with BeautifulSoup\n",
    "title = soup.title.text # gets you the text of the <title>(...)</title>\n",
    "print(f\"Page title with no.text: '{soup.title}'\")\n",
    "print(f\"Page title: '{title}'\")"
   ]
  },
  {
   "cell_type": "code",
   "execution_count": 6,
   "id": "1181c23a-827e-4196-a095-2622d53ddbba",
   "metadata": {},
   "outputs": [
    {
     "name": "stdout",
     "output_type": "stream",
     "text": [
      "Type var head: '<class 'bs4.element.Tag'>'\n",
      "\n",
      "Var head: \n",
      "<head>\n",
      "<!-- Anti-flicker snippet (recommended)  -->\n",
      "<style>\n",
      "\t\t\t.async-hide {\n",
      "\t\t\t\topacity: 0 !important;\n",
      "\t\t\t}\n",
      "\t\t</style>\n",
      "<title>codedamn Web Scraper demo</title>\n",
      "<meta charset=\"utf-8\"/>\n",
      "<meta content=\"IE=edge,chrome=1\" http-equiv=\"X-UA-Compatible\"/>\n",
      "<meta content=\"web scraping,Web Scraper,Chrome extension,Crawling,Cross platform scraper, \" name=\"keywords\"/>\n",
      "<meta content=\"The most popular web scraping website.\" name=\"description\"/>\n",
      "<link href=\"/webscraper-python-codedamn-classroom-website/favicon.png\" rel=\"icon\" sizes=\"128x128\"/>\n",
      "<meta content=\"width=device-width, initial-scale=1.0\" name=\"viewport\"/>\n",
      "<link href=\"/webscraper-python-codedamn-classroom-website/app.css\" rel=\"stylesheet\"/>\n",
      "<link href=\"/webscraper-python-codedamn-classroom-website/logo-icon.png\" rel=\"apple-touch-icon\"/>\n",
      "<script defer=\"\" src=\"/webscraper-python-codedamn-classroom-website/app.js\"></script>\n",
      "</head>\n"
     ]
    }
   ],
   "source": [
    "# Extract body of page\n",
    "page_body = soup.body\n",
    "\n",
    "# Extract head of page\n",
    "page_head = soup.head\n",
    "print(f\"Type var head: '{type(page_head)}'\")\n",
    "print(f\"\\nVar head: \\n{page_head}\")\n"
   ]
  },
  {
   "cell_type": "markdown",
   "id": "7949b389-5f73-4321-823d-984946dfa937",
   "metadata": {},
   "source": [
    "- Once you have the soup variable (like previous labs), you can work with `.select` on it which is a CSS selector inside BeautifulSoup.\n",
    "- That is, you can reach down the DOM tree just like how you will select elements with CSS. Let's look at an example:"
   ]
  },
  {
   "cell_type": "code",
   "execution_count": 7,
   "id": "20a62c2c-9537-45dc-91a9-f8c1451eb60f",
   "metadata": {},
   "outputs": [
    {
     "data": {
      "text/plain": [
       "'Test Sites'"
      ]
     },
     "execution_count": 7,
     "metadata": {},
     "output_type": "execute_result"
    }
   ],
   "source": [
    "# Extract first <h1>(...)</h1> text\n",
    "first_h1 = soup.select('h1')[0].text\n",
    "first_h1"
   ]
  },
  {
   "cell_type": "code",
   "execution_count": 8,
   "id": "2a6480de-1f4b-47b5-b5ff-b6bfded9687b",
   "metadata": {},
   "outputs": [
    {
     "data": {
      "text/plain": [
       "['Test Sites', 'E-commerce training site']"
      ]
     },
     "execution_count": 8,
     "metadata": {},
     "output_type": "execute_result"
    }
   ],
   "source": [
    "# Create all_h1_tags as empty list\n",
    "all_h1_tags = list()\n",
    "\n",
    "# Set all_h1_tags to all h1 tags of the soup\n",
    "for element in soup.select('h1'):\n",
    "    all_h1_tags.append(element.text)\n",
    "all_h1_tags"
   ]
  },
  {
   "cell_type": "code",
   "execution_count": null,
   "id": "1dfd6572-5b09-4894-ae4c-075c3c7e4510",
   "metadata": {},
   "outputs": [],
   "source": []
  },
  {
   "cell_type": "code",
   "execution_count": 9,
   "id": "d9b39a16-8821-4480-8199-08a4f2c0fbc5",
   "metadata": {},
   "outputs": [
    {
     "data": {
      "text/plain": [
       "[<p>Web Scraper</p>,\n",
       " <p>Cloud Scraper</p>,\n",
       " <p>Pricing</p>,\n",
       " <p>Learn</p>,\n",
       " <p>\n",
       " \t\t\t\t\t\t\t\tWelcome to WebScraper e-commerce site. You can use this site for\n",
       " \t\t\t\t\t\t\t\ttraining to learn how to use the Web Scraper. Items listed here are\n",
       " \t\t\t\t\t\t\t\tnot for sale.\n",
       " \t\t\t\t\t\t\t</p>,\n",
       " <p class=\"description\">\n",
       " \t\t\t\t\t\t\t\t\t\t\tAsus AsusPro Advanced BU401LA-FA271G Dark Grey,\n",
       " \t\t\t\t\t\t\t\t\t\t\t14\", Core i5-4210U, 4GB, 128GB SSD, Win7 Pro 64bit,\n",
       " \t\t\t\t\t\t\t\t\t\t\tENG\n",
       " \t\t\t\t\t\t\t\t\t\t</p>,\n",
       " <p class=\"pull-right\">7 reviews</p>,\n",
       " <p data-rating=\"3\">\n",
       " <span class=\"glyphicon glyphicon-star\"></span>\n",
       " <span class=\"glyphicon glyphicon-star\"></span>\n",
       " <span class=\"glyphicon glyphicon-star\"></span>\n",
       " </p>,\n",
       " <p class=\"description\">\n",
       " \t\t\t\t\t\t\t\t\t\t\tApple MacBook Air 13.3\", Core i5 1.8GHz, 8GB, 128GB\n",
       " \t\t\t\t\t\t\t\t\t\t\tSSD, Intel HD 4000, RUS\n",
       " \t\t\t\t\t\t\t\t\t\t</p>,\n",
       " <p class=\"pull-right\">4 reviews</p>,\n",
       " <p data-rating=\"2\">\n",
       " <span class=\"glyphicon glyphicon-star\"></span>\n",
       " <span class=\"glyphicon glyphicon-star\"></span>\n",
       " </p>,\n",
       " <p class=\"description\">\n",
       " \t\t\t\t\t\t\t\t\t\t\tAcer Aspire 3 A315-51 Black, 15.6\" FHD, Core\n",
       " \t\t\t\t\t\t\t\t\t\t\ti3-7100U, 4GB, 500GB + 128GB SSD, Windows 10 Home\n",
       " \t\t\t\t\t\t\t\t\t\t</p>,\n",
       " <p class=\"pull-right\">2 reviews</p>,\n",
       " <p data-rating=\"4\">\n",
       " <span class=\"glyphicon glyphicon-star\"></span>\n",
       " <span class=\"glyphicon glyphicon-star\"></span>\n",
       " <span class=\"glyphicon glyphicon-star\"></span>\n",
       " <span class=\"glyphicon glyphicon-star\"></span>\n",
       " </p>,\n",
       " <p>Products</p>,\n",
       " <p>Company</p>,\n",
       " <p>Resources</p>,\n",
       " <p>CONTACT US</p>,\n",
       " <p class=\"copyright\">\n",
       " \t\t\t\t\t\t\tCopyright © 2020 <a href=\"#\">Web Scraper</a> | All rights reserved |\n",
       " \t\t\t\t\t\t\tRemixed by codedamn\n",
       " \t\t\t\t\t\t</p>]"
      ]
     },
     "execution_count": 9,
     "metadata": {},
     "output_type": "execute_result"
    }
   ],
   "source": [
    "# p element text of the page\n",
    "soup.select('p')"
   ]
  },
  {
   "cell_type": "markdown",
   "id": "83b40c3f-cc19-4f3e-a772-eed89a54d666",
   "metadata": {},
   "source": [
    "## 4. Application <a class=\"anchor\" id=\"part4\"></a>"
   ]
  },
  {
   "cell_type": "markdown",
   "id": "edef591e-8002-436e-96b9-fa0414abcdda",
   "metadata": {},
   "source": [
    "### Getting Top items being scraped"
   ]
  },
  {
   "cell_type": "code",
   "execution_count": 10,
   "id": "67c32829-4c36-44da-a7e8-0d28729ada0d",
   "metadata": {},
   "outputs": [
    {
     "data": {
      "text/plain": [
       "[{'title': 'Asus AsusPro Advanced BU401LA-FA271G Dark Grey',\n",
       "  'review': '7 reviews',\n",
       "  'description': 'Asus AsusPro Advanced BU401LA-FA271G Dark Grey,14\", Core i5-4210U, 4GB, 128GB SSD, Win7 Pro 64bit,ENG',\n",
       "  'price': '$1139.54',\n",
       "  'image': '/webscraper-python-codedamn-classroom-website/cart2.png'},\n",
       " {'title': 'Asus ROG Strix GL553VD-DM535T',\n",
       "  'review': '4 reviews',\n",
       "  'description': 'Apple MacBook Air 13.3\", Core i5 1.8GHz, 8GB, 128GBSSD, Intel HD 4000, RUS',\n",
       "  'price': '$1101.83',\n",
       "  'image': '/webscraper-python-codedamn-classroom-website/cart2.png'},\n",
       " {'title': 'Acer Aspire 3 A315-51 Black',\n",
       "  'review': '2 reviews',\n",
       "  'description': 'Acer Aspire 3 A315-51 Black, 15.6\" FHD, Corei3-7100U, 4GB, 500GB + 128GB SSD, Windows 10 Home',\n",
       "  'price': '$494.71',\n",
       "  'image': '/webscraper-python-codedamn-classroom-website/cart2.png'}]"
      ]
     },
     "execution_count": 10,
     "metadata": {},
     "output_type": "execute_result"
    }
   ],
   "source": [
    "# Create top_items as empty list\n",
    "top_items = list()\n",
    "\n",
    "# Extract and store in top_items according to instructions on the left\n",
    "products = soup.select('div.thumbnail')\n",
    "for elem in products:\n",
    "    # title = elem.select('h4 > a.title')[0]['title']\n",
    "    title = elem.select('h4 > a.title')[0].get('title')\n",
    "    review_label = elem.select('div.ratings')[0].text\n",
    "    description = elem.select('div.caption > p.description')[0].text.replace('\\t', '').replace('\\n', '')\n",
    "    # price = elem.select('div.caption > h4')[0].text or\n",
    "    price = elem.select('h4.price')[0].text\n",
    "    image = elem.select('img')[0].get('src')\n",
    "    info = {\n",
    "        \"title\": title.strip(),\n",
    "        \"review\": review_label.strip(),\n",
    "        \"description\": description.strip(),\n",
    "        \"price\": price.strip(),\n",
    "        \"image\": image\n",
    "    }\n",
    "    top_items.append(info)\n",
    "\n",
    "top_items\n"
   ]
  },
  {
   "cell_type": "code",
   "execution_count": 11,
   "id": "feee2d2d-050c-4511-a98a-b125f72f65f8",
   "metadata": {},
   "outputs": [
    {
     "data": {
      "text/html": [
       "<div>\n",
       "<style scoped>\n",
       "    .dataframe tbody tr th:only-of-type {\n",
       "        vertical-align: middle;\n",
       "    }\n",
       "\n",
       "    .dataframe tbody tr th {\n",
       "        vertical-align: top;\n",
       "    }\n",
       "\n",
       "    .dataframe thead th {\n",
       "        text-align: right;\n",
       "    }\n",
       "</style>\n",
       "<table border=\"1\" class=\"dataframe\">\n",
       "  <thead>\n",
       "    <tr style=\"text-align: right;\">\n",
       "      <th></th>\n",
       "      <th>title</th>\n",
       "      <th>review</th>\n",
       "      <th>description</th>\n",
       "      <th>price</th>\n",
       "      <th>image</th>\n",
       "    </tr>\n",
       "  </thead>\n",
       "  <tbody>\n",
       "    <tr>\n",
       "      <th>0</th>\n",
       "      <td>Asus AsusPro Advanced BU401LA-FA271G Dark Grey</td>\n",
       "      <td>7 reviews</td>\n",
       "      <td>Asus AsusPro Advanced BU401LA-FA271G Dark Grey...</td>\n",
       "      <td>$1139.54</td>\n",
       "      <td>/webscraper-python-codedamn-classroom-website/...</td>\n",
       "    </tr>\n",
       "    <tr>\n",
       "      <th>1</th>\n",
       "      <td>Asus ROG Strix GL553VD-DM535T</td>\n",
       "      <td>4 reviews</td>\n",
       "      <td>Apple MacBook Air 13.3\", Core i5 1.8GHz, 8GB, ...</td>\n",
       "      <td>$1101.83</td>\n",
       "      <td>/webscraper-python-codedamn-classroom-website/...</td>\n",
       "    </tr>\n",
       "    <tr>\n",
       "      <th>2</th>\n",
       "      <td>Acer Aspire 3 A315-51 Black</td>\n",
       "      <td>2 reviews</td>\n",
       "      <td>Acer Aspire 3 A315-51 Black, 15.6\" FHD, Corei3...</td>\n",
       "      <td>$494.71</td>\n",
       "      <td>/webscraper-python-codedamn-classroom-website/...</td>\n",
       "    </tr>\n",
       "  </tbody>\n",
       "</table>\n",
       "</div>"
      ],
      "text/plain": [
       "                                            title     review  \\\n",
       "0  Asus AsusPro Advanced BU401LA-FA271G Dark Grey  7 reviews   \n",
       "1                   Asus ROG Strix GL553VD-DM535T  4 reviews   \n",
       "2                     Acer Aspire 3 A315-51 Black  2 reviews   \n",
       "\n",
       "                                         description     price  \\\n",
       "0  Asus AsusPro Advanced BU401LA-FA271G Dark Grey...  $1139.54   \n",
       "1  Apple MacBook Air 13.3\", Core i5 1.8GHz, 8GB, ...  $1101.83   \n",
       "2  Acer Aspire 3 A315-51 Black, 15.6\" FHD, Corei3...   $494.71   \n",
       "\n",
       "                                               image  \n",
       "0  /webscraper-python-codedamn-classroom-website/...  \n",
       "1  /webscraper-python-codedamn-classroom-website/...  \n",
       "2  /webscraper-python-codedamn-classroom-website/...  "
      ]
     },
     "execution_count": 11,
     "metadata": {},
     "output_type": "execute_result"
    }
   ],
   "source": [
    "\n",
    "data = pd.DataFrame(columns = info.keys())\n",
    "data['title'] = [items['title'] for items in top_items]\n",
    "data['review'] = [items['review'] for items in top_items]\n",
    "data['price'] = [items['price'] for items in top_items]\n",
    "data['description'] = [items['description'] for items in top_items]\n",
    "data['image'] = [items['image'] for items in top_items]\n",
    "data"
   ]
  },
  {
   "cell_type": "code",
   "execution_count": null,
   "id": "94cd2816-faeb-4cee-ac03-15e8ffa97b7c",
   "metadata": {},
   "outputs": [],
   "source": []
  },
  {
   "cell_type": "code",
   "execution_count": null,
   "id": "58d12d87-eb52-4fac-b19d-b62392ea2475",
   "metadata": {},
   "outputs": [],
   "source": []
  }
 ],
 "metadata": {
  "kernelspec": {
   "display_name": "Python 3 (ipykernel)",
   "language": "python",
   "name": "python3"
  },
  "language_info": {
   "codemirror_mode": {
    "name": "ipython",
    "version": 3
   },
   "file_extension": ".py",
   "mimetype": "text/x-python",
   "name": "python",
   "nbconvert_exporter": "python",
   "pygments_lexer": "ipython3",
   "version": "3.9.7"
  }
 },
 "nbformat": 4,
 "nbformat_minor": 5
}
